{
 "cells": [
  {
   "cell_type": "code",
   "execution_count": null,
   "metadata": {
    "scrolled": false
   },
   "outputs": [],
   "source": [
    "pip install tensorflow"
   ]
  },
  {
   "cell_type": "code",
   "execution_count": 16,
   "metadata": {
    "id": "nhDANOVH1SNj"
   },
   "outputs": [],
   "source": [
    "import os\n",
    "import pandas as pd\n",
    "import numpy as np\n",
    "import matplotlib.pyplot as plt\n",
    "import seaborn as sns\n",
    "import random\n",
    "from sklearn.model_selection import train_test_split\n",
    "from sklearn import preprocessing\n",
    "from sklearn.ensemble import RandomForestClassifier\n",
    "from sklearn.metrics import accuracy_score\n",
    "import tensorflow as tf\n",
    "from tensorflow import keras\n",
    "from tensorflow.keras import layers\n",
    "import cv2\n",
    "from sklearn.preprocessing import LabelEncoder\n",
    "from tensorflow.keras.models import Sequential\n",
    "from tensorflow.keras.layers import Conv2D, MaxPooling2D, Dense, Flatten\n",
    "from tensorflow.keras import regularizers\n",
    "from tensorflow.keras.losses import CategoricalCrossentropy\n",
    "from tensorflow.keras import models,layers\n",
    "from tensorflow.keras.utils import to_categorical\n",
    "\n",
    "\n",
    "\n",
    "\n"
   ]
  },
  {
   "cell_type": "code",
   "execution_count": 5,
   "metadata": {
    "id": "66rf-QtJ1fC3"
   },
   "outputs": [],
   "source": [
    "# Path to the folder containing the numbered images\n",
    "image_folder = r\"D:\\Lectures\\Senior-2\\Deep Learning\\Project\\images\\images\"\n",
    "\n",
    "# Path to the CSV file\n",
    "csv_file_path = r\"C:\\Users\\sheha\\OneDrive\\Desktop\\train.csv\"\n",
    "\n",
    "# Read the CSV file\n",
    "df = pd.read_csv(csv_file_path)\n",
    "\n",
    "# Function to load and parse images\n",
    "def load_images_and_labels(image_folder, df, target_size=(1620, 1050)):\n",
    "    data = []\n",
    "    labels = []\n",
    "\n",
    "    for index, row in df.iterrows():\n",
    "        image_id = row['id']\n",
    "        species = row['species']\n",
    "\n",
    "        # Construct the image file path based on the ID\n",
    "        image_path = os.path.join(image_folder, f\"{image_id}.jpg\")\n",
    "\n",
    "        # Load the image using OpenCV in grayscale mode\n",
    "        #image = cv2.imread(image_path, cv2.IMREAD_GRAYSCALE)\n",
    "        image = cv2.imread(image_path, cv2.IMREAD_GRAYSCALE)\n",
    "\n",
    "\n",
    "        # Resize the image to the target size with replicated padding\n",
    "        height, width = image.shape\n",
    "        new_height, new_width = target_size\n",
    "\n",
    "        # Calculate padding\n",
    "        pad_height = max(0, (new_height - height) // 2)\n",
    "        pad_width = max(0, (new_width - width) // 2)\n",
    "\n",
    "        # Replicate padding\n",
    "        image = cv2.copyMakeBorder(image, pad_height, pad_height, pad_width, pad_width, cv2.BORDER_REPLICATE)\n",
    "\n",
    "        # Resize the image to the target size\n",
    "        image = cv2.resize(image, (new_width, new_height))\n",
    "\n",
    "        # Convert OpenCV image to TensorFlow tensor\n",
    "        numpy_array = np.array(image)\n",
    "\n",
    "         # Append the image and label to the lists\n",
    "        data.append(numpy_array)\n",
    "        labels.append(species)\n",
    "\n",
    "    return data,labels\n",
    "\n",
    "# Load images and labels\n",
    "images,labels = load_images_and_labels(image_folder, df, target_size=(1620, 1050))\n",
    "\n"
   ]
  },
  {
   "cell_type": "code",
   "execution_count": 6,
   "metadata": {},
   "outputs": [],
   "source": [
    "updated_labels = np.array(labels)\n",
    "updated_images= np.array(images)"
   ]
  },
  {
   "cell_type": "code",
   "execution_count": 7,
   "metadata": {
    "scrolled": true
   },
   "outputs": [
    {
     "name": "stdout",
     "output_type": "stream",
     "text": [
      "(990, 1620, 1050)\n",
      "(990,)\n"
     ]
    }
   ],
   "source": [
    "print(updated_images.shape)\n",
    "print(updated_labels.shape)"
   ]
  },
  {
   "cell_type": "code",
   "execution_count": 8,
   "metadata": {
    "scrolled": true
   },
   "outputs": [],
   "source": [
    "updated_images= updated_images.reshape(len(updated_images),1620,1050,1)\n",
    "updated_labels= updated_labels.reshape(len(updated_labels),1)"
   ]
  },
  {
   "cell_type": "code",
   "execution_count": 9,
   "metadata": {},
   "outputs": [
    {
     "name": "stdout",
     "output_type": "stream",
     "text": [
      "(990, 1620, 1050, 1)\n",
      "(990, 1)\n"
     ]
    }
   ],
   "source": [
    "print(updated_images.shape)\n",
    "print(updated_labels.shape)"
   ]
  },
  {
   "cell_type": "code",
   "execution_count": 10,
   "metadata": {},
   "outputs": [
    {
     "name": "stderr",
     "output_type": "stream",
     "text": [
      "C:\\ProgramData\\anaconda3\\Lib\\site-packages\\sklearn\\preprocessing\\_label.py:97: DataConversionWarning: A column-vector y was passed when a 1d array was expected. Please change the shape of y to (n_samples, ), for example using ravel().\n",
      "  y = column_or_1d(y, warn=True)\n",
      "C:\\ProgramData\\anaconda3\\Lib\\site-packages\\sklearn\\preprocessing\\_label.py:132: DataConversionWarning: A column-vector y was passed when a 1d array was expected. Please change the shape of y to (n_samples, ), for example using ravel().\n",
      "  y = column_or_1d(y, dtype=self.classes_.dtype, warn=True)\n"
     ]
    }
   ],
   "source": [
    "LabelEncoder  = preprocessing.LabelEncoder()\n",
    "LabelEncoder.fit(updated_labels)\n",
    "num_labels = LabelEncoder.transform(updated_labels)\n",
    "\n"
   ]
  },
  {
   "cell_type": "code",
   "execution_count": null,
   "metadata": {
    "colab": {
     "base_uri": "https://localhost:8080/"
    },
    "id": "--cp8sXRILfe",
    "outputId": "beb815fd-57e5-43fe-d9ee-06f3f6639877"
   },
   "outputs": [],
   "source": [
    "# Create a DataFrame\n",
    "df_result = pd.DataFrame({'images': updated_images, 'labels': num_labels})\n",
    "\n",
    "# Save the DataFrame to a CSV file\n",
    "output_csv_path = r\"E:\\Semester 9\\Deep Learning\\Project\\dataset.csv\"\n",
    "df_result.to_csv(output_csv_path, index=False)"
   ]
  },
  {
   "cell_type": "code",
   "execution_count": 40,
   "metadata": {
    "id": "3drgATUq1vWs"
   },
   "outputs": [],
   "source": [
    "network = models.Sequential()\n",
    "\n",
    "# First Convolutional layer with (3,3) matrix size, same padding refers to add additional columns or rows to align\n",
    "# with the filter and a maxpooling layers which takes maximum value in the (3,3) pixel value matrix.\n",
    "network.add(layers.Conv2D(10,(3,3), padding='valid', activation='relu', input_shape = (1620,1050,1)))\n",
    "network.add(layers.MaxPool2D((3,3)))\n",
    "\n",
    "# Second convolutional layer same as above but this one produces 16 feature maps unlike 10 above.\n",
    "network.add(layers.Conv2D(16,(3,3), padding='valid', activation='relu'))\n",
    "network.add(layers.MaxPool2D((3,3)))\n",
    "\n",
    "\n",
    "# Third convolutional layer same as above but this one produces 128 feature maps unlike 256 above.\n",
    "network.add(layers.Conv2D(16,(3,3), padding='valid', activation='relu'))\n",
    "network.add(layers.MaxPool2D((3,3)))\n",
    "\n",
    "# Flatten layer\n",
    "network.add(layers.Flatten())\n",
    "\n",
    "\n",
    "\n",
    "# Dense layer of 64 neurons with L2 regularization and ReLU activation function\n",
    "network.add(layers.Dense(64, kernel_regularizer = regularizers.l2(0.01), activation='relu'))\n",
    "\n",
    "# Dropout layer of 20%\n",
    "network.add(layers.Dropout(0.2))\n",
    "\n",
    "# Dense Layer of 64 neurons with L2 regularization and ReLU activation function\n",
    "network.add(layers.Dense(64, kernel_regularizer = regularizers.l2(0.01), activation='relu'))\n",
    "\n",
    "# Final Dense Layer with number of neurons same as number of classes of classification and 'softmax' as the\n",
    "# activation function\n",
    "# softmax is useful because it converts the output layer into what is essentially a probability distribution.\n",
    "network.add(layers.Dense(99, activation='softmax'))"
   ]
  },
  {
   "cell_type": "code",
   "execution_count": 41,
   "metadata": {
    "id": "PBmc4-KWLGHz"
   },
   "outputs": [],
   "source": [
    "X_train, X_test, Y_train, Y_test = train_test_split(updated_images, num_labels, test_size=0.2, random_state=5, shuffle=True)\n"
   ]
  },
  {
   "cell_type": "code",
   "execution_count": 42,
   "metadata": {},
   "outputs": [],
   "source": [
    "Y_train_one_hot = to_categorical(Y_train, num_classes = 99)"
   ]
  },
  {
   "cell_type": "code",
   "execution_count": 43,
   "metadata": {
    "scrolled": false
   },
   "outputs": [
    {
     "name": "stdout",
     "output_type": "stream",
     "text": [
      "Model: \"sequential_4\"\n",
      "_________________________________________________________________\n",
      " Layer (type)                Output Shape              Param #   \n",
      "=================================================================\n",
      " conv2d_13 (Conv2D)          (None, 1618, 1048, 10)    100       \n",
      "                                                                 \n",
      " max_pooling2d_13 (MaxPooli  (None, 539, 349, 10)      0         \n",
      " ng2D)                                                           \n",
      "                                                                 \n",
      " conv2d_14 (Conv2D)          (None, 537, 347, 16)      1456      \n",
      "                                                                 \n",
      " max_pooling2d_14 (MaxPooli  (None, 179, 115, 16)      0         \n",
      " ng2D)                                                           \n",
      "                                                                 \n",
      " conv2d_15 (Conv2D)          (None, 177, 113, 16)      2320      \n",
      "                                                                 \n",
      " max_pooling2d_15 (MaxPooli  (None, 59, 37, 16)        0         \n",
      " ng2D)                                                           \n",
      "                                                                 \n",
      " flatten_4 (Flatten)         (None, 34928)             0         \n",
      "                                                                 \n",
      " dense_12 (Dense)            (None, 64)                2235456   \n",
      "                                                                 \n",
      " dropout_5 (Dropout)         (None, 64)                0         \n",
      "                                                                 \n",
      " dense_13 (Dense)            (None, 64)                4160      \n",
      "                                                                 \n",
      " dense_14 (Dense)            (None, 99)                6435      \n",
      "                                                                 \n",
      "=================================================================\n",
      "Total params: 2249927 (8.58 MB)\n",
      "Trainable params: 2249927 (8.58 MB)\n",
      "Non-trainable params: 0 (0.00 Byte)\n",
      "_________________________________________________________________\n",
      "None\n",
      "Epoch 1/8\n",
      "198/198 [==============================] - 44s 221ms/step - loss: 9.2641 - accuracy: 0.0076\n",
      "Epoch 2/8\n",
      "198/198 [==============================] - 46s 235ms/step - loss: 7.1532 - accuracy: 0.0366\n",
      "Epoch 3/8\n",
      "198/198 [==============================] - 46s 232ms/step - loss: 6.4006 - accuracy: 0.1376\n",
      "Epoch 4/8\n",
      "198/198 [==============================] - 48s 241ms/step - loss: 5.5399 - accuracy: 0.2753\n",
      "Epoch 5/8\n",
      "198/198 [==============================] - 46s 233ms/step - loss: 4.7970 - accuracy: 0.3674\n",
      "Epoch 6/8\n",
      "198/198 [==============================] - 46s 232ms/step - loss: 4.2013 - accuracy: 0.4735\n",
      "Epoch 7/8\n",
      "198/198 [==============================] - 47s 235ms/step - loss: 3.9171 - accuracy: 0.5227\n",
      "Epoch 8/8\n",
      "198/198 [==============================] - 43s 218ms/step - loss: 3.4242 - accuracy: 0.6073\n",
      "Model: \"sequential_4\"\n",
      "_________________________________________________________________\n",
      " Layer (type)                Output Shape              Param #   \n",
      "=================================================================\n",
      " conv2d_13 (Conv2D)          (None, 1618, 1048, 10)    100       \n",
      "                                                                 \n",
      " max_pooling2d_13 (MaxPooli  (None, 539, 349, 10)      0         \n",
      " ng2D)                                                           \n",
      "                                                                 \n",
      " conv2d_14 (Conv2D)          (None, 537, 347, 16)      1456      \n",
      "                                                                 \n",
      " max_pooling2d_14 (MaxPooli  (None, 179, 115, 16)      0         \n",
      " ng2D)                                                           \n",
      "                                                                 \n",
      " conv2d_15 (Conv2D)          (None, 177, 113, 16)      2320      \n",
      "                                                                 \n",
      " max_pooling2d_15 (MaxPooli  (None, 59, 37, 16)        0         \n",
      " ng2D)                                                           \n",
      "                                                                 \n",
      " flatten_4 (Flatten)         (None, 34928)             0         \n",
      "                                                                 \n",
      " dense_12 (Dense)            (None, 64)                2235456   \n",
      "                                                                 \n",
      " dropout_5 (Dropout)         (None, 64)                0         \n",
      "                                                                 \n",
      " dense_13 (Dense)            (None, 64)                4160      \n",
      "                                                                 \n",
      " dense_14 (Dense)            (None, 99)                6435      \n",
      "                                                                 \n",
      "=================================================================\n",
      "Total params: 2249927 (8.58 MB)\n",
      "Trainable params: 2249927 (8.58 MB)\n",
      "Non-trainable params: 0 (0.00 Byte)\n",
      "_________________________________________________________________\n",
      "None\n",
      "Epoch 1/8\n",
      "99/99 [==============================] - 40s 388ms/step - loss: 2.7844 - accuracy: 0.7576\n",
      "Epoch 2/8\n",
      "99/99 [==============================] - 38s 389ms/step - loss: 2.6015 - accuracy: 0.8018\n",
      "Epoch 3/8\n",
      "99/99 [==============================] - 38s 385ms/step - loss: 2.4373 - accuracy: 0.8232\n",
      "Epoch 4/8\n",
      "99/99 [==============================] - 38s 381ms/step - loss: 2.3176 - accuracy: 0.8371\n",
      "Epoch 5/8\n",
      "99/99 [==============================] - 39s 389ms/step - loss: 2.2434 - accuracy: 0.8573\n",
      "Epoch 6/8\n",
      "99/99 [==============================] - 38s 383ms/step - loss: 2.2266 - accuracy: 0.8598\n",
      "Epoch 7/8\n",
      "99/99 [==============================] - 39s 398ms/step - loss: 2.1251 - accuracy: 0.8674\n",
      "Epoch 8/8\n",
      "99/99 [==============================] - 41s 411ms/step - loss: 2.0566 - accuracy: 0.8636\n",
      "Model: \"sequential_4\"\n",
      "_________________________________________________________________\n",
      " Layer (type)                Output Shape              Param #   \n",
      "=================================================================\n",
      " conv2d_13 (Conv2D)          (None, 1618, 1048, 10)    100       \n",
      "                                                                 \n",
      " max_pooling2d_13 (MaxPooli  (None, 539, 349, 10)      0         \n",
      " ng2D)                                                           \n",
      "                                                                 \n",
      " conv2d_14 (Conv2D)          (None, 537, 347, 16)      1456      \n",
      "                                                                 \n",
      " max_pooling2d_14 (MaxPooli  (None, 179, 115, 16)      0         \n",
      " ng2D)                                                           \n",
      "                                                                 \n",
      " conv2d_15 (Conv2D)          (None, 177, 113, 16)      2320      \n",
      "                                                                 \n",
      " max_pooling2d_15 (MaxPooli  (None, 59, 37, 16)        0         \n",
      " ng2D)                                                           \n",
      "                                                                 \n",
      " flatten_4 (Flatten)         (None, 34928)             0         \n",
      "                                                                 \n",
      " dense_12 (Dense)            (None, 64)                2235456   \n",
      "                                                                 \n",
      " dropout_5 (Dropout)         (None, 64)                0         \n",
      "                                                                 \n",
      " dense_13 (Dense)            (None, 64)                4160      \n",
      "                                                                 \n",
      " dense_14 (Dense)            (None, 99)                6435      \n",
      "                                                                 \n",
      "=================================================================\n",
      "Total params: 2249927 (8.58 MB)\n",
      "Trainable params: 2249927 (8.58 MB)\n",
      "Non-trainable params: 0 (0.00 Byte)\n",
      "_________________________________________________________________\n",
      "None\n",
      "Epoch 1/8\n",
      "50/50 [==============================] - 45s 888ms/step - loss: 1.8994 - accuracy: 0.9028\n",
      "Epoch 2/8\n",
      "50/50 [==============================] - 44s 883ms/step - loss: 1.8092 - accuracy: 0.9280\n",
      "Epoch 3/8\n",
      "50/50 [==============================] - 45s 892ms/step - loss: 1.7527 - accuracy: 0.9331\n",
      "Epoch 4/8\n",
      "50/50 [==============================] - 43s 855ms/step - loss: 1.6874 - accuracy: 0.9407\n",
      "Epoch 5/8\n",
      "50/50 [==============================] - 45s 903ms/step - loss: 1.6411 - accuracy: 0.9596\n",
      "Epoch 6/8\n",
      "50/50 [==============================] - 45s 908ms/step - loss: 1.5978 - accuracy: 0.9545\n",
      "Epoch 7/8\n",
      "50/50 [==============================] - 43s 866ms/step - loss: 1.5946 - accuracy: 0.9495\n",
      "Epoch 8/8\n",
      "50/50 [==============================] - 44s 881ms/step - loss: 1.5627 - accuracy: 0.9482\n"
     ]
    },
    {
     "data": {
      "image/png": "[encoded data removed]",
      "text/plain": [
       "<Figure size 1000x600 with 1 Axes>"
      ]
     },
     "metadata": {},
     "output_type": "display_data"
    }
   ],
   "source": [
    "# List of batch sizes to try\n",
    "batch_sizes = [4, 8, 16]\n",
    "\n",
    "# Dictionary to store accuracy results for each batch size\n",
    "accuracy_results_sgd = {}\n",
    "\n",
    "# Assuming you have your X_train, Y_train data ready\n",
    "\n",
    "# Define custom colors for the lines\n",
    "line_colors = ['#FF5733', '#33FF57', '#3357FF']\n",
    "\n",
    "# Iterate through each batch size\n",
    "for i, batch_size in enumerate(batch_sizes):\n",
    "\n",
    "    # Compile the model with SGD optimizer and the current batch size\n",
    "    network.compile(optimizer='SGD', loss=CategoricalCrossentropy(from_logits=True), metrics=['accuracy'])\n",
    "\n",
    "    # Print model summary to check the layer shapes\n",
    "    print(network.summary())\n",
    "\n",
    "    # Train the model (assuming X_train and Y_train_one_hot are defined)\n",
    "    history = network.fit(X_train, Y_train_one_hot, epochs=8, batch_size=batch_size, verbose=1)\n",
    "\n",
    "    # Store the accuracy results for the current batch size\n",
    "    accuracy_results_sgd[batch_size] = history.history['accuracy']\n",
    "\n",
    "# Plot the accuracy results for each batch size with custom colors\n",
    "plt.figure(figsize=(10, 6))\n",
    "for i, (batch_size, accuracy_values) in enumerate(accuracy_results_sgd.items()):\n",
    "    plt.plot(accuracy_values, label=f'SGD - Batch Size {batch_size}', color=line_colors[i])\n",
    "\n",
    "plt.title('Accuracy Comparison for Different Batch Sizes (SGD Optimizer)')\n",
    "plt.xlabel('Epochs')\n",
    "plt.ylabel('Accuracy')\n",
    "plt.legend()\n",
    "plt.show()"
   ]
  },
  {
   "cell_type": "code",
   "execution_count": 22,
   "metadata": {
    "id": "6oNqPzNB11H2"
   },
   "outputs": [
    {
     "name": "stdout",
     "output_type": "stream",
     "text": [
      "99/99 [==============================] - 910s 9s/step - loss: 2.4277 - accuracy: 0.8396\n"
     ]
    }
   ],
   "source": [
    "train_results = network.fit(x=X_train,y=Y_train_one_hot,batch_size=8,      # Number of samples per gradient update\n",
    "    epochs=1)"
   ]
  },
  {
   "cell_type": "code",
   "execution_count": null,
   "metadata": {},
   "outputs": [],
   "source": []
  }
 ],
 "metadata": {
  "accelerator": "GPU",
  "colab": {
   "gpuType": "T4",
   "provenance": []
  },
  "kernelspec": {
   "display_name": "Python 3 (ipykernel)",
   "language": "python",
   "name": "python3"
  },
  "language_info": {
   "codemirror_mode": {
    "name": "ipython",
    "version": 3
   },
   "file_extension": ".py",
   "mimetype": "text/x-python",
   "name": "python",
   "nbconvert_exporter": "python",
   "pygments_lexer": "ipython3",
   "version": "3.11.5"
  }
 },
 "nbformat": 4,
 "nbformat_minor": 1
}
