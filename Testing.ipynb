{
 "cells": [
  {
   "cell_type": "code",
   "execution_count": null,
   "metadata": {
    "scrolled": false
   },
   "outputs": [],
   "source": [
    "pip install tensorflow"
   ]
  },
  {
   "cell_type": "code",
   "execution_count": 16,
   "metadata": {
    "id": "nhDANOVH1SNj"
   },
   "outputs": [],
   "source": [
    "import os\n",
    "import pandas as pd\n",
    "import numpy as np\n",
    "import matplotlib.pyplot as plt\n",
    "import seaborn as sns\n",
    "import random\n",
    "from sklearn.model_selection import train_test_split\n",
    "from sklearn import preprocessing\n",
    "from sklearn.ensemble import RandomForestClassifier\n",
    "from sklearn.metrics import accuracy_score\n",
    "import tensorflow as tf\n",
    "from tensorflow import keras\n",
    "from tensorflow.keras import layers\n",
    "import cv2\n",
    "from sklearn.preprocessing import LabelEncoder\n",
    "from tensorflow.keras.models import Sequential\n",
    "from tensorflow.keras.layers import Conv2D, MaxPooling2D, Dense, Flatten\n",
    "from tensorflow.keras import regularizers\n",
    "from tensorflow.keras.losses import CategoricalCrossentropy\n",
    "from tensorflow.keras import models,layers\n",
    "from tensorflow.keras.utils import to_categorical\n",
    "\n",
    "\n",
    "\n",
    "\n"
   ]
  },
  {
   "cell_type": "code",
   "execution_count": 5,
   "metadata": {
    "id": "66rf-QtJ1fC3"
   },
   "outputs": [],
   "source": [
    "# Path to the folder containing the numbered images\n",
    "image_folder = r\"D:\\Lectures\\Senior-2\\Deep Learning\\Project\\images\\images\"\n",
    "\n",
    "# Path to the CSV file\n",
    "csv_file_path = r\"C:\\Users\\sheha\\OneDrive\\Desktop\\train.csv\"\n",
    "\n",
    "# Read the CSV file\n",
    "df = pd.read_csv(csv_file_path)\n",
    "\n",
    "# Function to load and parse images\n",
    "def load_images_and_labels(image_folder, df, target_size=(1620, 1050)):\n",
    "    data = []\n",
    "    labels = []\n",
    "\n",
    "    for index, row in df.iterrows():\n",
    "        image_id = row['id']\n",
    "        species = row['species']\n",
    "\n",
    "        # Construct the image file path based on the ID\n",
    "        image_path = os.path.join(image_folder, f\"{image_id}.jpg\")\n",
    "\n",
    "        # Load the image using OpenCV in grayscale mode\n",
    "        #image = cv2.imread(image_path, cv2.IMREAD_GRAYSCALE)\n",
    "        image = cv2.imread(image_path, cv2.IMREAD_GRAYSCALE)\n",
    "\n",
    "\n",
    "        # Resize the image to the target size with replicated padding\n",
    "        height, width = image.shape\n",
    "        new_height, new_width = target_size\n",
    "\n",
    "        # Calculate padding\n",
    "        pad_height = max(0, (new_height - height) // 2)\n",
    "        pad_width = max(0, (new_width - width) // 2)\n",
    "\n",
    "        # Replicate padding\n",
    "        image = cv2.copyMakeBorder(image, pad_height, pad_height, pad_width, pad_width, cv2.BORDER_REPLICATE)\n",
    "\n",
    "        # Resize the image to the target size\n",
    "        image = cv2.resize(image, (new_width, new_height))\n",
    "\n",
    "        # Convert OpenCV image to TensorFlow tensor\n",
    "        numpy_array = np.array(image)\n",
    "\n",
    "         # Append the image and label to the lists\n",
    "        data.append(numpy_array)\n",
    "        labels.append(species)\n",
    "\n",
    "    return data,labels\n",
    "\n",
    "# Load images and labels\n",
    "images,labels = load_images_and_labels(image_folder, df, target_size=(1620, 1050))\n",
    "\n"
   ]
  },
  {
   "cell_type": "code",
   "execution_count": 6,
   "metadata": {},
   "outputs": [],
   "source": [
    "updated_labels = np.array(labels)\n",
    "updated_images= np.array(images)"
   ]
  },
  {
   "cell_type": "code",
   "execution_count": 7,
   "metadata": {
    "scrolled": true
   },
   "outputs": [
    {
     "name": "stdout",
     "output_type": "stream",
     "text": [
      "(990, 1620, 1050)\n",
      "(990,)\n"
     ]
    }
   ],
   "source": [
    "print(updated_images.shape)\n",
    "print(updated_labels.shape)"
   ]
  },
  {
   "cell_type": "code",
   "execution_count": 8,
   "metadata": {
    "scrolled": true
   },
   "outputs": [],
   "source": [
    "updated_images= updated_images.reshape(len(updated_images),1620,1050,1)\n",
    "updated_labels= updated_labels.reshape(len(updated_labels),1)"
   ]
  },
  {
   "cell_type": "code",
   "execution_count": 9,
   "metadata": {},
   "outputs": [
    {
     "name": "stdout",
     "output_type": "stream",
     "text": [
      "(990, 1620, 1050, 1)\n",
      "(990, 1)\n"
     ]
    }
   ],
   "source": [
    "print(updated_images.shape)\n",
    "print(updated_labels.shape)"
   ]
  },
  {
   "cell_type": "code",
   "execution_count": 10,
   "metadata": {},
   "outputs": [
    {
     "name": "stderr",
     "output_type": "stream",
     "text": [
      "C:\\ProgramData\\anaconda3\\Lib\\site-packages\\sklearn\\preprocessing\\_label.py:97: DataConversionWarning: A column-vector y was passed when a 1d array was expected. Please change the shape of y to (n_samples, ), for example using ravel().\n",
      "  y = column_or_1d(y, warn=True)\n",
      "C:\\ProgramData\\anaconda3\\Lib\\site-packages\\sklearn\\preprocessing\\_label.py:132: DataConversionWarning: A column-vector y was passed when a 1d array was expected. Please change the shape of y to (n_samples, ), for example using ravel().\n",
      "  y = column_or_1d(y, dtype=self.classes_.dtype, warn=True)\n"
     ]
    }
   ],
   "source": [
    "LabelEncoder  = preprocessing.LabelEncoder()\n",
    "LabelEncoder.fit(updated_labels)\n",
    "num_labels = LabelEncoder.transform(updated_labels)\n",
    "\n"
   ]
  },
  {
   "cell_type": "code",
   "execution_count": null,
   "metadata": {
    "colab": {
     "base_uri": "https://localhost:8080/"
    },
    "id": "--cp8sXRILfe",
    "outputId": "beb815fd-57e5-43fe-d9ee-06f3f6639877"
   },
   "outputs": [],
   "source": [
    "# Create a DataFrame\n",
    "df_result = pd.DataFrame({'images': updated_images, 'labels': num_labels})\n",
    "\n",
    "# Save the DataFrame to a CSV file\n",
    "output_csv_path = r\"E:\\Semester 9\\Deep Learning\\Project\\dataset.csv\"\n",
    "df_result.to_csv(output_csv_path, index=False)"
   ]
  },
  {
   "cell_type": "code",
   "execution_count": 68,
   "metadata": {
    "id": "3drgATUq1vWs"
   },
   "outputs": [],
   "source": [
    "network = models.Sequential()\n",
    "\n",
    "# First Convolutional layer with (3,3) matrix size, same padding refers to add additional columns or rows to align\n",
    "# with the filter and a maxpooling layers which takes maximum value in the (3,3) pixel value matrix.\n",
    "network.add(layers.Conv2D(10,(3,3), padding='valid', activation='relu', input_shape = (1620,1050,1)))\n",
    "network.add(layers.MaxPool2D((3,3)))\n",
    "\n",
    "# Second convolutional layer same as above but this one produces 16 feature maps unlike 10 above.\n",
    "network.add(layers.Conv2D(16,(3,3), padding='valid', activation='relu'))\n",
    "network.add(layers.MaxPool2D((3,3)))\n",
    "\n",
    "\n",
    "# Third convolutional layer same as above but this one produces 128 feature maps unlike 256 above.\n",
    "network.add(layers.Conv2D(16,(3,3), padding='valid', activation='relu'))\n",
    "network.add(layers.MaxPool2D((3,3)))\n",
    "\n",
    "# Flatten layer\n",
    "network.add(layers.Flatten())\n",
    "\n",
    "\n",
    "\n",
    "# Dense layer of 64 neurons with L2 regularization and ReLU activation function\n",
    "network.add(layers.Dense(64, kernel_regularizer = regularizers.l2(0.01), activation='relu'))\n",
    "\n",
    "# Dropout layer of 20%\n",
    "network.add(layers.Dropout(0.2))\n",
    "\n",
    "# Dense Layer of 64 neurons with L2 regularization and ReLU activation function\n",
    "network.add(layers.Dense(64, kernel_regularizer = regularizers.l2(0.01), activation='relu'))\n",
    "\n",
    "# Final Dense Layer with number of neurons same as number of classes of classification and 'softmax' as the\n",
    "# activation function\n",
    "# softmax is useful because it converts the output layer into what is essentially a probability distribution.\n",
    "network.add(layers.Dense(99, activation='softmax'))"
   ]
  },
  {
   "cell_type": "code",
   "execution_count": 69,
   "metadata": {
    "id": "PBmc4-KWLGHz"
   },
   "outputs": [],
   "source": [
    "X_train, X_test, Y_train, Y_test = train_test_split(updated_images, num_labels, test_size=0.2, random_state=5, shuffle=True)\n"
   ]
  },
  {
   "cell_type": "code",
   "execution_count": 70,
   "metadata": {},
   "outputs": [],
   "source": [
    "Y_train_one_hot = to_categorical(Y_train, num_classes = 99)"
   ]
  },
  {
   "cell_type": "code",
   "execution_count": 71,
   "metadata": {},
   "outputs": [],
   "source": [
    "Y_test_one_hot = to_categorical(Y_test, num_classes = 99)"
   ]
  },
  {
   "cell_type": "code",
   "execution_count": 72,
   "metadata": {
    "scrolled": false
   },
   "outputs": [
    {
     "name": "stdout",
     "output_type": "stream",
     "text": [
      "50/50 [==============================] - 46s 905ms/step - loss: 10.7790 - accuracy: 0.0164\n",
      "50/50 [==============================] - 45s 905ms/step - loss: 6.9486 - accuracy: 0.0303\n",
      "50/50 [==============================] - 46s 914ms/step - loss: 6.7920 - accuracy: 0.0505\n"
     ]
    },
    {
     "data": {
      "image/png": "[encoded data removed]",
      "text/plain": [
       "<Figure size 1000x600 with 1 Axes>"
      ]
     },
     "metadata": {},
     "output_type": "display_data"
    }
   ],
   "source": [
    "from tensorflow.keras.optimizers import SGD\n",
    "from tensorflow.keras.losses import CategoricalCrossentropy\n",
    "\n",
    "# Compile the model (you might have already done this before training)\n",
    "optimizer = SGD(learning_rate=0.01)\n",
    "network.compile(optimizer=optimizer, loss=CategoricalCrossentropy(from_logits=True), metrics=['accuracy'])\n",
    "\n",
    "# Lists to store training and test accuracy for each epoch\n",
    "train_accuracy_history = []\n",
    "test_accuracy_history = []\n",
    "\n",
    "# Training loop\n",
    "epochs = 3\n",
    "for epoch in range(epochs):\n",
    "    # Train the model on the training set\n",
    "    train_results = network.fit(x=X_train, y=Y_train_one_hot, batch_size=16, epochs=1, verbose=1)\n",
    "\n",
    "    # Record training accuracy for this epoch\n",
    "    train_accuracy_history.append(train_results.history['accuracy'][0])\n",
    "\n",
    "    # Evaluate the model on the test set\n",
    "    test_results = network.evaluate(X_test, Y_test_one_hot, verbose=0)\n",
    "\n",
    "    # Record test accuracy for this epoch\n",
    "    test_accuracy_history.append(test_results[1])\n",
    "\n",
    "# Plotting the accuracy over epochs\n",
    "plt.figure(figsize=(10, 6))\n",
    "\n",
    "plt.plot(train_accuracy_history, label='Training Accuracy', marker='o')\n",
    "plt.plot(test_accuracy_history, label='Test Accuracy', marker='x')\n",
    "\n",
    "plt.xlabel('Epochs')\n",
    "plt.ylabel('Accuracy')\n",
    "plt.title('Training and Test Accuracy Over Epochs')\n",
    "plt.legend()\n",
    "plt.show()"
   ]
  },
  {
   "cell_type": "code",
   "execution_count": null,
   "metadata": {},
   "outputs": [],
   "source": []
  }
 ],
 "metadata": {
  "accelerator": "GPU",
  "colab": {
   "gpuType": "T4",
   "provenance": []
  },
  "kernelspec": {
   "display_name": "Python 3 (ipykernel)",
   "language": "python",
   "name": "python3"
  },
  "language_info": {
   "codemirror_mode": {
    "name": "ipython",
    "version": 3
   },
   "file_extension": ".py",
   "mimetype": "text/x-python",
   "name": "python",
   "nbconvert_exporter": "python",
   "pygments_lexer": "ipython3",
   "version": "3.11.5"
  }
 },
 "nbformat": 4,
 "nbformat_minor": 1
}
